{
 "cells": [
  {
   "cell_type": "code",
   "execution_count": 238,
   "id": "e31ab215",
   "metadata": {},
   "outputs": [],
   "source": [
    "import json\n",
    "with open('purchase_log.txt', 'r', encoding='utf-8') as file:\n",
    "    next(file)\n",
    "    purchases = {}\n",
    "    for line in file:\n",
    "        line_dic = json.loads(line)\n",
    "        #print (line_dict)\n",
    "        user_id = line_dic['user_id']\n",
    "        category = line_dic['category']\n",
    "        purchases[user_id] = category\n",
    "\n",
    "#data_dict\n",
    "file.close()"
   ]
  },
  {
   "cell_type": "code",
   "execution_count": 239,
   "id": "61bb7005",
   "metadata": {},
   "outputs": [],
   "source": [
    "with open('visit_log.csv', 'r', encoding='utf-8') as fileR:\n",
    "    next(fileR)\n",
    "    with open('funnel.csv', 'w', encoding='utf-8') as fileW:\n",
    "        for i, line in enumerate(fileR):\n",
    "            #print(line)\n",
    "            key = line.strip().split(',')[0]\n",
    "            if key in data_dict:\n",
    "                #print (line + ',' + data_dict[key])\n",
    "                line.strip().split(',').append(data_dict[key])\n",
    "                fileW.write(line.strip() + ',' + data_dict[key] +'\\n' )\n",
    "    fileW.close()\n",
    "fileR.close()"
   ]
  }
 ],
 "metadata": {
  "kernelspec": {
   "display_name": "Python 3 (ipykernel)",
   "language": "python",
   "name": "python3"
  },
  "language_info": {
   "codemirror_mode": {
    "name": "ipython",
    "version": 3
   },
   "file_extension": ".py",
   "mimetype": "text/x-python",
   "name": "python",
   "nbconvert_exporter": "python",
   "pygments_lexer": "ipython3",
   "version": "3.9.13"
  }
 },
 "nbformat": 4,
 "nbformat_minor": 5
}
