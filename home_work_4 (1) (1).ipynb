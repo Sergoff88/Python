{
 "cells": [
  {
   "cell_type": "markdown",
   "id": "21641d17",
   "metadata": {},
   "source": [
    "Домашнее задание к лекции \"Функции\"\n",
    "Вам нужно помочь секретарю автоматизировать работу. Для этого нужно написать программу, которая будет на основе хранимых данных исполнять пользовательские команды.\n",
    "\n",
    "Исходные данные имеют следующую структуру:\n",
    "\n",
    "перечень всех документов\n",
    "documents = [\n",
    "    {'type': 'passport', 'number': '2207 876234', 'name': 'Василий Гупкин'},\n",
    "    {'type': 'invoice', 'number': '11-2', 'name': 'Геннадий Покемонов'},\n",
    "    {'type': 'insurance', 'number': '10006', 'name': 'Аристарх Павлов'}\n",
    "]\n",
    "перечень полок, на которых хранятся документы (если документ есть в documents, то он обязательно должен быть и в directories)\n",
    "directories = {\n",
    "    '1': ['2207 876234', '11-2'],\n",
    "    '2': ['10006'],\n",
    "    '3': []\n",
    "}\n",
    "Общие требования к программе:\n",
    "\n",
    "код должен быть грамотно декомпозирован (каждая функция отвечает за свою конкретную задачу, дублирующийся функционал переиспользуется, а его код не повторяется);\n",
    "в коде отсутствуют глобальные переменные (за исключением documents и directories);\n",
    "пользовательский ввод обрабатывается в цикле while до тех пор, пока пользователь явно не завершит программу (вводом команды \"q\")."
   ]
  },
  {
   "cell_type": "code",
   "execution_count": 169,
   "id": "c297390e",
   "metadata": {},
   "outputs": [],
   "source": [
    "documents = [\n",
    "    {'type': 'passport', 'number': '2207 876234', 'name': 'Василий Гупкин'},\n",
    "    {'type': 'invoice', 'number': '11-2', 'name': 'Геннадий Покемонов'},\n",
    "    {'type': 'insurance', 'number': '10006', 'name': 'Аристарх Павлов'}\n",
    "]\n",
    "directories = {\n",
    "    '1': ['2207 876234', '11-2'],\n",
    "    '2': ['10006'],\n",
    "    '3': []\n",
    "}"
   ]
  },
  {
   "cell_type": "code",
   "execution_count": 7,
   "id": "ee492cce",
   "metadata": {},
   "outputs": [],
   "source": [
    "def path_doc(directories, n='empty'):\n",
    "    if n == 'empty':\n",
    "        n = input(\"Введите номер документа\")\n",
    "        \n",
    "    for key, value in directories.items():\n",
    "        for i in value:\n",
    "            if i == n: \n",
    "                #print(key)\n",
    "                return [f'Документ хранится на полке: {key}', key]\n",
    "    return f'Документ не найден в базе' \n",
    "\n",
    "#path_doc(directories, n='empty')[1]"
   ]
  },
  {
   "cell_type": "code",
   "execution_count": 8,
   "id": "a5696769",
   "metadata": {},
   "outputs": [
    {
     "name": "stdout",
     "output_type": "stream",
     "text": [
      "Введите номер документа1\n"
     ]
    },
    {
     "data": {
      "text/plain": [
       "'Документ не найден в базе'"
      ]
     },
     "execution_count": 8,
     "metadata": {},
     "output_type": "execute_result"
    }
   ],
   "source": [
    "def owner_doc(directories):\n",
    "    n = input(\"Введите номер документа\")\n",
    "    s = [i[\"name\"]  for i in documents if i[\"number\"] == n] \n",
    "    if len(s) != 0:\n",
    "        return f'Владелец документа: {\"\".join(s)}'\n",
    "    else:\n",
    "        return \"Документ не найден в базе\"\n",
    "    #return f'Владелец документа: {\"\".join(s)}' if len(s) != 0 else return \"Документ не найден в базе\"\n",
    "\n",
    "owner_doc (directories) "
   ]
  },
  {
   "cell_type": "code",
   "execution_count": 190,
   "id": "45d72a25",
   "metadata": {},
   "outputs": [
    {
     "data": {
      "text/plain": [
       "['№: 2207 876234, тип: passport, владелец: Василий Гупкин, полка хранения: 1',\n",
       " '№: 11-2, тип: invoice, владелец: Геннадий Покемонов, полка хранения: 1',\n",
       " '№: 10006, тип: insurance, владелец: Аристарх Павлов, полка хранения: 2']"
      ]
     },
     "execution_count": 190,
     "metadata": {},
     "output_type": "execute_result"
    }
   ],
   "source": [
    "def all_info_about_docs (documents, directories):\n",
    "    s = []\n",
    "    for i in documents:\n",
    "        s.append(f'№: {i[\"number\"]}, ' \\\n",
    "                f'тип: {i[\"type\"]}, ' \\\n",
    "                f'владелец: {i[\"name\"]}, ' \\\n",
    "                f'полка хранения: {path_doc(directories, i[\"number\"])[1]}')\n",
    "    return s      \n",
    "all_info_about_docs (documents,directories)\n",
    "#documents "
   ]
  },
  {
   "cell_type": "code",
   "execution_count": 18,
   "id": "459fde30",
   "metadata": {},
   "outputs": [],
   "source": [
    "def count_ds (directories):\n",
    "    return (f'Текущий перечень полок: {\", \".join(list(directories.keys()))}')"
   ]
  },
  {
   "cell_type": "code",
   "execution_count": 11,
   "id": "227b1261",
   "metadata": {},
   "outputs": [
    {
     "name": "stdout",
     "output_type": "stream",
     "text": [
      "Введите номер полки1\n",
      "Такая полка уже существует. Текущий перечень полок: 1, 2, 3\n"
     ]
    }
   ],
   "source": [
    "def add_ds (directories):\n",
    "    t = input(\"Введите номер полки\")\n",
    "    if t in directories:\n",
    "        print( f'Такая полка уже существует.'\n",
    "              f' {count_ds (directories)}')\n",
    "    else:\n",
    "        directories[t] = []\n",
    "        print(f'Полка добавлена.'\n",
    "              f' {count_ds (directories)}')\n",
    "        \n",
    "add_ds (directories)\n",
    "\n",
    "\n"
   ]
  },
  {
   "cell_type": "code",
   "execution_count": 12,
   "id": "cca40b58",
   "metadata": {},
   "outputs": [
    {
     "name": "stdout",
     "output_type": "stream",
     "text": [
      "Введите номер полки1\n"
     ]
    },
    {
     "data": {
      "text/plain": [
       "'На полке есть документ, удалите их перед удалением полки. Текущий перечень полок: 1, 2, 3'"
      ]
     },
     "execution_count": 12,
     "metadata": {},
     "output_type": "execute_result"
    }
   ],
   "source": [
    "def delete_ds (directories):\n",
    "    t = input(\"Введите номер полки\")\n",
    "    if t in directories:\n",
    "        if len(directories[t]) == 0:\n",
    "            del directories[t]\n",
    "            return f'Полка удалена. {count_ds(directories)}'\n",
    "        else:\n",
    "            return f'На полке есть документ, удалите их перед удалением полки. {count_ds(directories)}'\n",
    "    else:\n",
    "        return f'Такой полки не существует. {count_ds(directories)}'\n",
    "            \n",
    "delete_ds (directories)"
   ]
  },
  {
   "cell_type": "code",
   "execution_count": 160,
   "id": "1b3e1c58",
   "metadata": {},
   "outputs": [
    {
     "name": "stdout",
     "output_type": "stream",
     "text": [
      "Введите номер документа:1\n",
      "Введите тип документа:1\n",
      "Введите владельца документа:1\n",
      "Введите полку для хранения:1\n",
      "Документ добавлен. Текущий список документов:\n"
     ]
    },
    {
     "data": {
      "text/plain": [
       "['№: 2207 876234, тип: passport, владелец: Василий Гупкин, полка хранения: 1',\n",
       " '№: 11-2, тип: invoice, владелец: Геннадий Покемонов, полка хранения: 1',\n",
       " '№: 10006, тип: insurance, владелец: Аристарх Павлов, полка хранения: 2',\n",
       " '№: 1, тип: 1, владелец: 1, полка хранения: о']"
      ]
     },
     "execution_count": 160,
     "metadata": {},
     "output_type": "execute_result"
    }
   ],
   "source": [
    "def add_doc(documents, directories):\n",
    "    n_doc = input(\"Введите номер документа:\")\n",
    "    type_doc = input(\"Введите тип документа:\")\n",
    "    owner_doc = input(\"Введите владельца документа:\")\n",
    "    ds_doc = input(\"Введите полку для хранения:\")\n",
    "    \n",
    "    if ds_doc in directories:\n",
    "        documents.append({'type': type_doc, 'number': n_doc, 'name': owner_doc})\n",
    "        print('Документ добавлен. Текущий список документов:')\n",
    "        return all_info_about_docs (documents, directories)\n",
    "    else: \n",
    "        return f'Такой полки не существует. Добавьте полку командой as.'\n",
    "\n",
    "add_doc(documents, directories)\n",
    "#print (documents)"
   ]
  },
  {
   "cell_type": "markdown",
   "id": "08d0179a",
   "metadata": {},
   "source": [
    "Пункт 2. Пользователь по команде \"d\" может удалить документ из данных\n",
    "Примеры работы:\n",
    "\n",
    "Введите команду:\n",
    "d\n",
    "\n",
    "Введите номер документа:\n",
    "10006\n",
    "Результат:\n",
    "\n",
    "Документ удален. \n",
    "Текущий список документов:\n",
    "№: 2207 876234, тип: passport, владелец: Василий Гупкин, полка хранения: 1\n",
    "№: 11-2, тип: invoice, владелец: Геннадий Покемонов, полка хранения: 1\n",
    "Введите команду:\n",
    "d\n",
    "\n",
    "Введите номер документа:\n",
    "123456\n",
    "Результат:\n",
    "\n",
    "Документ не найден в базе. \n",
    "Текущий список документов:\n",
    "№: 2207 876234, тип: passport, владелец: Василий Гупкин, полка хранения: 1\n",
    "№: 11-2, тип: invoice, владелец: Геннадий Покемонов, полка хранения: 1\n",
    "№: 10006, тип: insurance, владелец: Аристарх Павлов, полка хранения: 2"
   ]
  },
  {
   "cell_type": "code",
   "execution_count": 189,
   "id": "c13986b2",
   "metadata": {
    "scrolled": true
   },
   "outputs": [
    {
     "name": "stdout",
     "output_type": "stream",
     "text": [
      "Введите номер документа:1\n",
      "{'1': ['2207 876234', '11-2'], '2': ['10006'], '3': []}\n"
     ]
    }
   ],
   "source": [
    "def del_doc(documents, directories):\n",
    "    n_doc = input(\"Введите номер документа:\")\n",
    "    for i in documents:\n",
    "        if i[\"number\"] == n_doc:\n",
    "            #documents.remove(i)\n",
    "            for value in directories.values():\n",
    "                #if value == n_doc:\n",
    "                    value.remove(n_doc)\n",
    "            print('Документ удалён. Текущий список документов:')\n",
    "            #return all_info_about_docs (documents, directories)\n",
    "    \n",
    "    \n",
    "del_doc(documents, directories)\n",
    "print (directories)"
   ]
  },
  {
   "cell_type": "code",
   "execution_count": null,
   "id": "e2a989ed",
   "metadata": {},
   "outputs": [],
   "source": [
    "def main(documents, directories):\n",
    "    while True:\n",
    "        t = input(\"Введите команду\")\n",
    "        if t == 'p':\n",
    "            print(owner_doc(documents)) \n",
    "        elif t == 's':\n",
    "            print(path_doc(directories)[0])\n",
    "        elif t == 'l':\n",
    "            print(*all_info_about_docs(documents, directories), sep ='\\n')\n",
    "        elif t == 'ads':\n",
    "            add_ds (directories)\n",
    "        elif t == 'ds':\n",
    "            print(delete_ds (directories))\n",
    "        elif t == 'ad':\n",
    "            print(*add_doc (documents, directories), sep ='\\n')\n",
    "        #elif t == 'd':\n",
    "            #print(*del_doc (documents, directories), sep ='\\n')\n",
    "        elif t == 'q': break \n",
    "    \n",
    "main(documents, directories)\n"
   ]
  }
 ],
 "metadata": {
  "kernelspec": {
   "display_name": "Python 3 (ipykernel)",
   "language": "python",
   "name": "python3"
  },
  "language_info": {
   "codemirror_mode": {
    "name": "ipython",
    "version": 3
   },
   "file_extension": ".py",
   "mimetype": "text/x-python",
   "name": "python",
   "nbconvert_exporter": "python",
   "pygments_lexer": "ipython3",
   "version": "3.9.13"
  }
 },
 "nbformat": 4,
 "nbformat_minor": 5
}
