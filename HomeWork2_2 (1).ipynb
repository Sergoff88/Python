{
 "cells": [
  {
   "cell_type": "code",
   "execution_count": 1,
   "id": "7236f46f",
   "metadata": {},
   "outputs": [],
   "source": [
    "import pandas as pd"
   ]
  },
  {
   "cell_type": "markdown",
   "id": "7a9be120",
   "metadata": {},
   "source": [
    "## Задание_1 ##"
   ]
  },
  {
   "cell_type": "code",
   "execution_count": 8,
   "id": "93c92597",
   "metadata": {},
   "outputs": [],
   "source": [
    "df_movies = pd.read_csv(r\"C:\\Users\\Sergofan\\Downloads\\ml-latest-small\\ml-latest-small\\movies.csv\")"
   ]
  },
  {
   "cell_type": "code",
   "execution_count": 62,
   "id": "5cdbd937",
   "metadata": {},
   "outputs": [],
   "source": [
    "df_ratings = pd.read_csv(r\"C:\\Users\\Sergofan\\Downloads\\ml-latest-small\\ml-latest-small\\ratings.csv\")"
   ]
  },
  {
   "cell_type": "code",
   "execution_count": 60,
   "id": "34c4167c",
   "metadata": {},
   "outputs": [],
   "source": [
    "df_merge = pd.merge(df_ratings, df_movies, how ='right', on = 'movieId' )"
   ]
  },
  {
   "cell_type": "code",
   "execution_count": 61,
   "id": "bff5562a",
   "metadata": {},
   "outputs": [],
   "source": [
    "def rating_2 (param):\n",
    "    if param <= 2:\n",
    "        return 'низкий рейтинг'\n",
    "    elif param <= 4:\n",
    "            return 'средний рейтинг'\n",
    "    elif param == 4.5 or param == 5:\n",
    "        return 'высокий рейтинг'\n",
    "    else:\n",
    "        return 'непонятный рейтинг'"
   ]
  },
  {
   "cell_type": "code",
   "execution_count": 63,
   "id": "5ab41d0f",
   "metadata": {},
   "outputs": [],
   "source": [
    "df_merge['class'] = df_merge['rating'].apply(rating_2)"
   ]
  },
  {
   "cell_type": "code",
   "execution_count": 64,
   "id": "33320033",
   "metadata": {},
   "outputs": [
    {
     "data": {
      "text/html": [
       "<div>\n",
       "<style scoped>\n",
       "    .dataframe tbody tr th:only-of-type {\n",
       "        vertical-align: middle;\n",
       "    }\n",
       "\n",
       "    .dataframe tbody tr th {\n",
       "        vertical-align: top;\n",
       "    }\n",
       "\n",
       "    .dataframe thead th {\n",
       "        text-align: right;\n",
       "    }\n",
       "</style>\n",
       "<table border=\"1\" class=\"dataframe\">\n",
       "  <thead>\n",
       "    <tr style=\"text-align: right;\">\n",
       "      <th></th>\n",
       "      <th>userId</th>\n",
       "      <th>movieId</th>\n",
       "      <th>rating</th>\n",
       "      <th>timestamp</th>\n",
       "      <th>title</th>\n",
       "      <th>genres</th>\n",
       "      <th>class</th>\n",
       "    </tr>\n",
       "  </thead>\n",
       "  <tbody>\n",
       "    <tr>\n",
       "      <th>0</th>\n",
       "      <td>7.0</td>\n",
       "      <td>1</td>\n",
       "      <td>3.0</td>\n",
       "      <td>8.518667e+08</td>\n",
       "      <td>Toy Story (1995)</td>\n",
       "      <td>Adventure|Animation|Children|Comedy|Fantasy</td>\n",
       "      <td>средний рейтинг</td>\n",
       "    </tr>\n",
       "    <tr>\n",
       "      <th>1</th>\n",
       "      <td>9.0</td>\n",
       "      <td>1</td>\n",
       "      <td>4.0</td>\n",
       "      <td>9.386292e+08</td>\n",
       "      <td>Toy Story (1995)</td>\n",
       "      <td>Adventure|Animation|Children|Comedy|Fantasy</td>\n",
       "      <td>средний рейтинг</td>\n",
       "    </tr>\n",
       "    <tr>\n",
       "      <th>2</th>\n",
       "      <td>13.0</td>\n",
       "      <td>1</td>\n",
       "      <td>5.0</td>\n",
       "      <td>1.331380e+09</td>\n",
       "      <td>Toy Story (1995)</td>\n",
       "      <td>Adventure|Animation|Children|Comedy|Fantasy</td>\n",
       "      <td>высокий рейтинг</td>\n",
       "    </tr>\n",
       "    <tr>\n",
       "      <th>3</th>\n",
       "      <td>15.0</td>\n",
       "      <td>1</td>\n",
       "      <td>2.0</td>\n",
       "      <td>9.979383e+08</td>\n",
       "      <td>Toy Story (1995)</td>\n",
       "      <td>Adventure|Animation|Children|Comedy|Fantasy</td>\n",
       "      <td>низкий рейтинг</td>\n",
       "    </tr>\n",
       "    <tr>\n",
       "      <th>4</th>\n",
       "      <td>19.0</td>\n",
       "      <td>1</td>\n",
       "      <td>3.0</td>\n",
       "      <td>8.551901e+08</td>\n",
       "      <td>Toy Story (1995)</td>\n",
       "      <td>Adventure|Animation|Children|Comedy|Fantasy</td>\n",
       "      <td>средний рейтинг</td>\n",
       "    </tr>\n",
       "  </tbody>\n",
       "</table>\n",
       "</div>"
      ],
      "text/plain": [
       "   userId  movieId  rating     timestamp             title  \\\n",
       "0     7.0        1     3.0  8.518667e+08  Toy Story (1995)   \n",
       "1     9.0        1     4.0  9.386292e+08  Toy Story (1995)   \n",
       "2    13.0        1     5.0  1.331380e+09  Toy Story (1995)   \n",
       "3    15.0        1     2.0  9.979383e+08  Toy Story (1995)   \n",
       "4    19.0        1     3.0  8.551901e+08  Toy Story (1995)   \n",
       "\n",
       "                                        genres            class  \n",
       "0  Adventure|Animation|Children|Comedy|Fantasy  средний рейтинг  \n",
       "1  Adventure|Animation|Children|Comedy|Fantasy  средний рейтинг  \n",
       "2  Adventure|Animation|Children|Comedy|Fantasy  высокий рейтинг  \n",
       "3  Adventure|Animation|Children|Comedy|Fantasy   низкий рейтинг  \n",
       "4  Adventure|Animation|Children|Comedy|Fantasy  средний рейтинг  "
      ]
     },
     "execution_count": 64,
     "metadata": {},
     "output_type": "execute_result"
    }
   ],
   "source": [
    "df_merge.head()"
   ]
  },
  {
   "cell_type": "markdown",
   "id": "978ca65a",
   "metadata": {},
   "source": [
    "## Задание_2 ##"
   ]
  },
  {
   "cell_type": "code",
   "execution_count": 43,
   "id": "b8348cbf",
   "metadata": {},
   "outputs": [],
   "source": [
    "df_keywords = pd.read_csv(r\"C:\\Users\\Sergofan\\Downloads\\ml-latest-small\\ml-latest-small\\keywords.csv\")"
   ]
  },
  {
   "cell_type": "code",
   "execution_count": 13,
   "id": "a70a2614",
   "metadata": {},
   "outputs": [],
   "source": [
    "geo_data = {\n",
    "'Центр': ['москва', 'тула', 'ярославль'],\n",
    "\n",
    "'Северо-Запад': ['петербург', 'псков', 'мурманск'],\n",
    "\n",
    "'Дальний Восток': ['владивосток', 'сахалин', 'хабаровск']\n",
    "}"
   ]
  },
  {
   "cell_type": "code",
   "execution_count": 79,
   "id": "c1853991",
   "metadata": {},
   "outputs": [],
   "source": [
    "def find_region (row, geo_data):\n",
    "    for reg in geo_data:\n",
    "        for city in geo_data[reg]:\n",
    "            if city in row:\n",
    "                return reg\n",
    "    return \"undefined\"\n"
   ]
  },
  {
   "cell_type": "code",
   "execution_count": 88,
   "id": "731a7a68",
   "metadata": {},
   "outputs": [],
   "source": [
    "df_keywords['region'] = df_keywords['keyword'].apply(find_region, geo_data = geo_data)"
   ]
  },
  {
   "cell_type": "code",
   "execution_count": 94,
   "id": "c8a25043",
   "metadata": {},
   "outputs": [
    {
     "data": {
      "text/html": [
       "<div>\n",
       "<style scoped>\n",
       "    .dataframe tbody tr th:only-of-type {\n",
       "        vertical-align: middle;\n",
       "    }\n",
       "\n",
       "    .dataframe tbody tr th {\n",
       "        vertical-align: top;\n",
       "    }\n",
       "\n",
       "    .dataframe thead th {\n",
       "        text-align: right;\n",
       "    }\n",
       "</style>\n",
       "<table border=\"1\" class=\"dataframe\">\n",
       "  <thead>\n",
       "    <tr style=\"text-align: right;\">\n",
       "      <th></th>\n",
       "      <th>keyword</th>\n",
       "      <th>shows</th>\n",
       "      <th>region</th>\n",
       "    </tr>\n",
       "  </thead>\n",
       "  <tbody>\n",
       "    <tr>\n",
       "      <th>127</th>\n",
       "      <td>авито москва</td>\n",
       "      <td>979292</td>\n",
       "      <td>Центр</td>\n",
       "    </tr>\n",
       "    <tr>\n",
       "      <th>370</th>\n",
       "      <td>авито ру санкт петербург</td>\n",
       "      <td>425134</td>\n",
       "      <td>Северо-Запад</td>\n",
       "    </tr>\n",
       "    <tr>\n",
       "      <th>564</th>\n",
       "      <td>погода в санкт петербурге</td>\n",
       "      <td>292489</td>\n",
       "      <td>Северо-Запад</td>\n",
       "    </tr>\n",
       "    <tr>\n",
       "      <th>849</th>\n",
       "      <td>авито ярославль</td>\n",
       "      <td>209581</td>\n",
       "      <td>Центр</td>\n",
       "    </tr>\n",
       "    <tr>\n",
       "      <th>1063</th>\n",
       "      <td>фарпост владивосток</td>\n",
       "      <td>176951</td>\n",
       "      <td>Дальний Восток</td>\n",
       "    </tr>\n",
       "    <tr>\n",
       "      <th>...</th>\n",
       "      <td>...</td>\n",
       "      <td>...</td>\n",
       "      <td>...</td>\n",
       "    </tr>\n",
       "    <tr>\n",
       "      <th>99590</th>\n",
       "      <td>авито ярославль автомобили с пробегом</td>\n",
       "      <td>3673</td>\n",
       "      <td>Центр</td>\n",
       "    </tr>\n",
       "    <tr>\n",
       "      <th>99634</th>\n",
       "      <td>северпост новости мурманской области</td>\n",
       "      <td>3606</td>\n",
       "      <td>Северо-Запад</td>\n",
       "    </tr>\n",
       "    <tr>\n",
       "      <th>99808</th>\n",
       "      <td>полармед мурманск запись на прием</td>\n",
       "      <td>3719</td>\n",
       "      <td>Северо-Запад</td>\n",
       "    </tr>\n",
       "    <tr>\n",
       "      <th>99890</th>\n",
       "      <td>яндекс метро москва</td>\n",
       "      <td>4548</td>\n",
       "      <td>Центр</td>\n",
       "    </tr>\n",
       "    <tr>\n",
       "      <th>99922</th>\n",
       "      <td>авто ру ярославль</td>\n",
       "      <td>3712</td>\n",
       "      <td>Центр</td>\n",
       "    </tr>\n",
       "  </tbody>\n",
       "</table>\n",
       "<p>747 rows × 3 columns</p>\n",
       "</div>"
      ],
      "text/plain": [
       "                                     keyword   shows          region\n",
       "127                             авито москва  979292           Центр\n",
       "370                 авито ру санкт петербург  425134    Северо-Запад\n",
       "564                погода в санкт петербурге  292489    Северо-Запад\n",
       "849                          авито ярославль  209581           Центр\n",
       "1063                     фарпост владивосток  176951  Дальний Восток\n",
       "...                                      ...     ...             ...\n",
       "99590  авито ярославль автомобили с пробегом    3673           Центр\n",
       "99634   северпост новости мурманской области    3606    Северо-Запад\n",
       "99808      полармед мурманск запись на прием    3719    Северо-Запад\n",
       "99890                    яндекс метро москва    4548           Центр\n",
       "99922                      авто ру ярославль    3712           Центр\n",
       "\n",
       "[747 rows x 3 columns]"
      ]
     },
     "execution_count": 94,
     "metadata": {},
     "output_type": "execute_result"
    }
   ],
   "source": [
    "df_keywords[(df_keywords['region'] != 'undefined')]"
   ]
  },
  {
   "cell_type": "code",
   "execution_count": 95,
   "id": "6a24405b",
   "metadata": {},
   "outputs": [
    {
     "data": {
      "text/plain": [
       "array(['undefined', 'Центр', 'Северо-Запад', 'Дальний Восток'],\n",
       "      dtype=object)"
      ]
     },
     "execution_count": 95,
     "metadata": {},
     "output_type": "execute_result"
    }
   ],
   "source": [
    "df_keywords['region'].unique()"
   ]
  },
  {
   "cell_type": "markdown",
   "id": "bd867027",
   "metadata": {},
   "source": [
    "### Задание_3 ###"
   ]
  },
  {
   "cell_type": "code",
   "execution_count": 2,
   "id": "95253ee4",
   "metadata": {},
   "outputs": [],
   "source": [
    "data_movies = pd.read_csv(r\"C:\\Users\\Sergofan\\Downloads\\ml-25m\\ml-25m\\movies.csv\")\n",
    "data_ratings = pd.read_csv(r\"C:\\Users\\Sergofan\\Downloads\\ml-25m\\ml-25m\\ratings.csv\")"
   ]
  },
  {
   "cell_type": "code",
   "execution_count": 3,
   "id": "88cc86e3",
   "metadata": {},
   "outputs": [],
   "source": [
    "df = pd.merge(data_movies, data_ratings, how = 'left', on = 'movieId')"
   ]
  },
  {
   "cell_type": "code",
   "execution_count": 5,
   "id": "122b1049",
   "metadata": {},
   "outputs": [],
   "source": [
    "years = list(range(1950, 2012))"
   ]
  },
  {
   "cell_type": "code",
   "execution_count": 21,
   "id": "48b9aec3",
   "metadata": {},
   "outputs": [],
   "source": [
    "def production_year (data_):\n",
    "    for year in years:\n",
    "        if str(year) in data_:\n",
    "            return year\n",
    "    return 1900"
   ]
  },
  {
   "cell_type": "code",
   "execution_count": 22,
   "id": "76729e0c",
   "metadata": {},
   "outputs": [],
   "source": [
    "df['year'] = df['title'].apply(production_year)"
   ]
  },
  {
   "cell_type": "code",
   "execution_count": 40,
   "id": "dab05efb",
   "metadata": {
    "scrolled": true
   },
   "outputs": [
    {
     "data": {
      "text/plain": [
       "year\n",
       "1957    3.999492\n",
       "1954    3.985693\n",
       "1972    3.956477\n",
       "1962    3.929445\n",
       "1952    3.895315\n",
       "Name: rating, dtype: float64"
      ]
     },
     "execution_count": 40,
     "metadata": {},
     "output_type": "execute_result"
    }
   ],
   "source": [
    "df.groupby('year')['rating'].mean().sort_values(ascending=False).head()"
   ]
  }
 ],
 "metadata": {
  "kernelspec": {
   "display_name": "Python 3 (ipykernel)",
   "language": "python",
   "name": "python3"
  },
  "language_info": {
   "codemirror_mode": {
    "name": "ipython",
    "version": 3
   },
   "file_extension": ".py",
   "mimetype": "text/x-python",
   "name": "python",
   "nbconvert_exporter": "python",
   "pygments_lexer": "ipython3",
   "version": "3.10.9"
  }
 },
 "nbformat": 4,
 "nbformat_minor": 5
}
