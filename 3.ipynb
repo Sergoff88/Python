{
 "cells": [
  {
   "cell_type": "markdown",
   "id": "0f8377c4",
   "metadata": {},
   "source": [
    "#### Задание 1\n",
    "Дана переменная, в которой хранится словарь, содержащий гео-метки для каждого пользователя (пример структуры данных приведен ниже). Вам необходимо написать программу, которая выведет на экран множество уникальных гео-меток всех пользователей.\n",
    "\n",
    "Пример работы программы:\n",
    "\n",
    "ids = {'user1': [213, 213, 213, 15, 213], \n",
    "       'user2': [54, 54, 119, 119, 119], \n",
    "       'user3': [213, 98, 98, 35]}\n",
    "Результат: {98, 35, 15, 213, 54, 119}"
   ]
  },
  {
   "cell_type": "code",
   "execution_count": 57,
   "id": "bf7895cf",
   "metadata": {},
   "outputs": [
    {
     "name": "stdout",
     "output_type": "stream",
     "text": [
      "{98, 35, 15, 213, 54, 119}\n"
     ]
    }
   ],
   "source": [
    "ids = {'user1': [213, 213, 213, 15, 213], \n",
    "       'user2': [54, 54, 119, 119, 119], \n",
    "       'user3': [213, 98, 98, 35]}\n",
    "\n",
    "result = set()\n",
    "for u in ids.values():\n",
    "    #print(u)\n",
    "    for g in u:\n",
    "        result.add(g)\n",
    " \n",
    "print(result)"
   ]
  },
  {
   "cell_type": "markdown",
   "id": "0c280cf1",
   "metadata": {},
   "source": [
    "#### Задание 2\n",
    "Дана переменная, в которой хранится список поисковых запросов пользователя (пример структуры данных приведен ниже, но запросы потенциально могут быть любые). Вам необходимо написать программу, которая выведет на экран распределение количества слов в запросах в требуемом виде.\n",
    "\n",
    "Пример работы программы:\n",
    "\n",
    "queries = [\n",
    "    'смотреть сериалы онлайн',\n",
    "    'новости спорта',\n",
    "    'афиша кино',\n",
    "    'курс доллара',\n",
    "    'сериалы этим летом',\n",
    "    'курс по питону',\n",
    "    'сериалы про спорт',\n",
    "]\n",
    "Результат:\n",
    "\n",
    "Поисковых запросов, содержащих 2 слов(а): 42.86%\n",
    "Поисковых запросов, содержащих 3 слов(а): 57.14%"
   ]
  },
  {
   "cell_type": "code",
   "execution_count": 131,
   "id": "5c1b93a2",
   "metadata": {},
   "outputs": [
    {
     "name": "stdout",
     "output_type": "stream",
     "text": [
      "Поисковых запросов, содержащих 3 слов(а): 57.14%\n",
      "Поисковых запросов, содержащих 2 слов(а): 42.86%\n"
     ]
    }
   ],
   "source": [
    "queries = [\n",
    "    'смотреть сериалы онлайн',\n",
    "    'новости спорта',\n",
    "    'афиша кино',\n",
    "    'курс доллара',\n",
    "    'сериалы этим летом',\n",
    "    'курс по питону',\n",
    "    'сериалы про спорт',\n",
    "]\n",
    "\n",
    "#print(len(queries))\n",
    "dic_1 = {}\n",
    "amount_words = 0\n",
    "for str_1 in queries:\n",
    "    amount_words = len(str_1.split())\n",
    "    if amount_words in dic_1:\n",
    "        dic_1[amount_words] += 1\n",
    "    else:\n",
    "        dic_1[amount_words] =  1\n",
    "        \n",
    "for key, value in dic_1.items():\n",
    "    #print(key,value)\n",
    "    print(f'Поисковых запросов, содержащих {key} слов(а): {value / len(queries) :.2%}')\n"
   ]
  },
  {
   "cell_type": "markdown",
   "id": "943562d8",
   "metadata": {},
   "source": [
    "#### Задание 3\n",
    "Дана переменная, в которой хранится информация о затратах и доходе рекламных кампаний по различным источникам. Необходимо дополнить исходную структуру показателем ROI, который рассчитаем по формуле: (revenue / cost - 1) * 100\n",
    "\n",
    "Пример работы программы:\n",
    "\n",
    "results = {\n",
    "    'vk': {'revenue': 103, 'cost': 98},\n",
    "    'yandex': {'revenue': 179, 'cost': 153},\n",
    "    'facebook': {'revenue': 103, 'cost': 110},\n",
    "    'adwords': {'revenue': 35, 'cost': 34},\n",
    "    'twitter': {'revenue': 11, 'cost': 24},\n",
    "}\n",
    "Результат:\n",
    "\n",
    "{'adwords': {'revenue': 35, 'cost': 34, 'ROI': 2.94},\n",
    " 'facebook': {'revenue': 103, 'cost': 110, 'ROI': -6.36},\n",
    " 'twitter': {'revenue': 11, 'cost': 24, 'ROI': -54.17},\n",
    " 'vk': {'revenue': 103, 'cost': 98, 'ROI': 5.1},\n",
    " 'yandex': {'revenue': 179, 'cost': 153, 'ROI': 16.99}}"
   ]
  },
  {
   "cell_type": "code",
   "execution_count": 33,
   "id": "b97b9b91",
   "metadata": {},
   "outputs": [
    {
     "name": "stdout",
     "output_type": "stream",
     "text": [
      "{'adwords': {'revenue': 35, 'cost': 34, 'ROI': 2.94}, 'facebook': {'revenue': 103, 'cost': 110, 'ROI': -6.36}, 'twitter': {'revenue': 11, 'cost': 24, 'ROI': -54.17}, 'vk': {'revenue': 103, 'cost': 98, 'ROI': 5.1}, 'yandex': {'revenue': 179, 'cost': 153, 'ROI': 16.99}}\n"
     ]
    }
   ],
   "source": [
    "results = {\n",
    "    'vk': {'revenue': 103, 'cost': 98},\n",
    "    'yandex': {'revenue': 179, 'cost': 153},\n",
    "    'facebook': {'revenue': 103, 'cost': 110},\n",
    "    'adwords': {'revenue': 35, 'cost': 34},\n",
    "    'twitter': {'revenue': 11, 'cost': 24},\n",
    "}\n",
    "\n",
    "\n",
    "for k, i in results.items():\n",
    "    #print(k,i)\n",
    "    i['ROI'] = round((i['revenue'] / i['cost'] - 1) *100,2)\n",
    "    #print(k,i)\n",
    "\n",
    "print(dict(sorted(results.items())))      \n",
    "    "
   ]
  },
  {
   "cell_type": "markdown",
   "id": "67995e00",
   "metadata": {},
   "source": [
    "#### Задание 4\n",
    "Дана переменная, в которой хранится статистика рекламных каналов по объемам продаж (пример структуры данных приведен ниже). Напишите программу, которая возвращает название канала с максимальным объемом продаж.\n",
    "\n",
    "Пример работы программы:\n",
    "\n",
    "stats = {'facebook': 55, 'yandex': 115, 'vk': 120, 'google': 99, 'email': 42, 'ok': 98}\n",
    "\n",
    "Результат: Максимальный объем продаж на рекламном канале: vk"
   ]
  },
  {
   "cell_type": "code",
   "execution_count": 61,
   "id": "9d65a24e",
   "metadata": {},
   "outputs": [
    {
     "name": "stdout",
     "output_type": "stream",
     "text": [
      "Максимальный объем продаж на рекламном канале: vk\n"
     ]
    }
   ],
   "source": [
    "stats = {'facebook': 55, 'yandex': 115, 'vk': 120, 'google': 99, 'email': 42, 'ok': 98}\n",
    "\n",
    "sorted_stats = dict(sorted(stats.items(), key=lambda item: item[1], reverse=True))\n",
    "for k in sorted_stats:\n",
    "    print (f'Максимальный объем продаж на рекламном канале: {k}')\n",
    "    break"
   ]
  },
  {
   "cell_type": "markdown",
   "id": "0159db6e",
   "metadata": {},
   "source": [
    "#### Задание 5 (необязательно)\n",
    "Дан список произвольной длины. Необходимо написать код, который на основе исходного списка составит словарь такого уровня вложенности, какова длина исхондого списка.\n",
    "\n",
    "Примеры работы программы:\n",
    "\n",
    "my_list = ['2018-01-01', 'yandex', 'cpc', 100]\n",
    "Результат: {'2018-01-01': {'yandex': {'cpc': 100}}}\n",
    "\n",
    "my_list = ['a', 'b', 'c', 'd', 'e', 'f']\n",
    "Результат: {'a': {'b': {'c': {'d': {'e': 'f'}}}}}"
   ]
  },
  {
   "cell_type": "code",
   "execution_count": 36,
   "id": "bf1ee23c",
   "metadata": {
    "scrolled": true
   },
   "outputs": [
    {
     "name": "stdout",
     "output_type": "stream",
     "text": [
      "f\n",
      "{'e': 'f'}\n",
      "{'d': {'e': 'f'}}\n",
      "{'c': {'d': {'e': 'f'}}}\n",
      "{'b': {'c': {'d': {'e': 'f'}}}}\n",
      "{'a': {'b': {'c': {'d': {'e': 'f'}}}}}\n"
     ]
    }
   ],
   "source": [
    "my_list = ['2018-01-01', 'yandex', 'cpc', 100]\n",
    "my_list = ['a', 'b', 'c', 'd', 'e', 'f']\n",
    "dic = my_list[-1]\n",
    "print(dic)\n",
    "for key in reversed(my_list[:-1]):\n",
    "    dic = {key: dic}\n",
    "    print(dic)\n",
    "    "
   ]
  },
  {
   "cell_type": "markdown",
   "id": "d8ae66da",
   "metadata": {},
   "source": [
    "#### Задание 6 (необязательно) \n",
    "Дана книга рецептов с информацией о том, сколько ингредиентов нужно для приготовления блюда в расчете на одну порцию (пример данных представлен ниже).\n",
    "Напишите программу, которая будет запрашивать у пользователя количество порций для приготовления этих блюд и отображать информацию о суммарном количестве требуемых ингредиентов в указанном виде.\n",
    "Внимание! Одинаковые ингредиенты с разными размерностями нужно считать раздельно!\n",
    "Пример работы программы:\n",
    "Сыр: 210 гр  \n",
    "Томаты: 6 шт  \n",
    "Огурцы: 60 гр  \n",
    "Маслины: 30 гр  \n",
    "Оливковое масло: 60 мл  \n",
    "Салат: 30 гр  \n",
    "Перец: 60 гр  \n",
    "Колбаса: 90 гр  \n",
    "Бекон: 90 гр  \n",
    "Оливки: 30 гр  \n",
    "Томаты: 60 гр  \n",
    "Тесто: 300 гр  \n",
    "Лимон: 3 шт  \n",
    "Вода: 600 мл  \n",
    "Сахар: 30 гр  \n",
    "Лайм: 60 гр "
   ]
  },
  {
   "cell_type": "code",
   "execution_count": 19,
   "id": "a22f8554",
   "metadata": {},
   "outputs": [
    {
     "name": "stdout",
     "output_type": "stream",
     "text": [
      "Введите количество порций:3\n",
      "сыр: 210 гр\n",
      "томаты: 6 шт\n",
      "огурцы: 60 гр\n",
      "маслины: 30 гр\n",
      "оливковое масло: 60 мл\n",
      "салат: 30 гр\n",
      "перец: 60 гр\n",
      "колбаса: 90 гр\n",
      "бекон: 90 гр\n",
      "оливки: 30 гр\n",
      "томаты: 60 гр\n",
      "тесто: 300 гр\n",
      "лимон: 3 шт\n",
      "вода: 600 мл\n",
      "сахар: 30 гр\n",
      "лайм: 60 гр\n"
     ]
    }
   ],
   "source": [
    "cook_book = {\n",
    "  'салат': [\n",
    "     {'ingridient_name': 'сыр', 'quantity': 50, 'measure': 'гр'},\n",
    "     {'ingridient_name': 'томаты', 'quantity': 2, 'measure': 'шт'},\n",
    "     {'ingridient_name': 'огурцы', 'quantity': 20, 'measure': 'гр'},\n",
    "     {'ingridient_name': 'маслины', 'quantity': 10, 'measure': 'гр'},\n",
    "     {'ingridient_name': 'оливковое масло', 'quantity': 20, 'measure': 'мл'},\n",
    "     {'ingridient_name': 'салат', 'quantity': 10, 'measure': 'гр'},\n",
    "     {'ingridient_name': 'перец', 'quantity': 20, 'measure': 'гр'}\n",
    "    ],\n",
    "  'пицца': [\n",
    "     {'ingridient_name': 'сыр', 'quantity': 20, 'measure': 'гр'},\n",
    "     {'ingridient_name': 'колбаса', 'quantity': 30, 'measure': 'гр'},\n",
    "     {'ingridient_name': 'бекон', 'quantity': 30, 'measure': 'гр'},\n",
    "     {'ingridient_name': 'оливки', 'quantity': 10, 'measure': 'гр'},\n",
    "     {'ingridient_name': 'томаты', 'quantity': 20, 'measure': 'гр'},\n",
    "     {'ingridient_name': 'тесто', 'quantity': 100, 'measure': 'гр'},   \n",
    "    ],\n",
    "  'лимонад': [\n",
    "     {'ingridient_name': 'лимон', 'quantity': 1, 'measure': 'шт'},\n",
    "     {'ingridient_name': 'вода', 'quantity': 200, 'measure': 'мл'},\n",
    "     {'ingridient_name': 'сахар', 'quantity': 10, 'measure': 'гр'},\n",
    "     {'ingridient_name': 'лайм', 'quantity': 20, 'measure': 'гр'},    \n",
    "    ]\n",
    "}\n",
    "\n",
    "dic = {}\n",
    "j = int(input('Введите количество порций:'))\n",
    "#print(cook_book)\n",
    "for key, val in cook_book.items():\n",
    "    #print(val)\n",
    "    for i in val:\n",
    "        if i['ingridient_name'] + '+' + i['measure'] in dic:\n",
    "            dic[i['ingridient_name'] + '+' + i['measure']] += i['quantity'] * j\n",
    "        else:\n",
    "            dic[i['ingridient_name'] + '+' + i['measure']] =  i['quantity'] * j\n",
    "#print(dic)\n",
    "for key, val in dic.items():\n",
    "    print(f'{key.partition(\"+\")[0]}: {val} {key.partition(\"+\")[2]}')"
   ]
  }
 ],
 "metadata": {
  "kernelspec": {
   "display_name": "Python 3 (ipykernel)",
   "language": "python",
   "name": "python3"
  },
  "language_info": {
   "codemirror_mode": {
    "name": "ipython",
    "version": 3
   },
   "file_extension": ".py",
   "mimetype": "text/x-python",
   "name": "python",
   "nbconvert_exporter": "python",
   "pygments_lexer": "ipython3",
   "version": "3.9.13"
  }
 },
 "nbformat": 4,
 "nbformat_minor": 5
}
